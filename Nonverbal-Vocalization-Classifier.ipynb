{
  "cells": [
    {
      "cell_type": "code",
      "execution_count": 31,
      "metadata": {
        "colab": {
          "base_uri": "https://localhost:8080/"
        },
        "id": "Lx4rrHtFGWiG",
        "outputId": "a6ffabd9-94ce-4d35-e6b4-0f47c9b71a28"
      },
      "outputs": [
        {
          "name": "stdout",
          "output_type": "stream",
          "text": [
            "Drive already mounted at /content/drive; to attempt to forcibly remount, call drive.mount(\"/content/drive\", force_remount=True).\n"
          ]
        }
      ],
      "source": [
        "import librosa\n",
        "import numpy as np\n",
        "import os\n",
        "import scipy.fft\n",
        "import matplotlib.pyplot as plt\n",
        "import pandas as pd\n",
        "from sklearn.feature_selection import SelectKBest, chi2, SelectFromModel\n",
        "from sklearn.model_selection import train_test_split, cross_val_score, GridSearchCV\n",
        "from sklearn.svm import SVC\n",
        "from sklearn.metrics import classification_report, accuracy_score, confusion_matrix\n",
        "from google.colab import drive\n",
        "from sklearn.preprocessing import LabelEncoder, MinMaxScaler\n",
        "from sklearn.ensemble import RandomForestClassifier\n",
        "from imblearn.over_sampling import SMOTE\n",
        "import seaborn as sns\n",
        "drive.mount('/content/drive')"
      ]
    },
    {
      "cell_type": "markdown",
      "metadata": {
        "id": "ej96sZI8GbYN"
      },
      "source": [
        "## Pré-processamento de dados\n",
        "Nesta primeira etapa, normalizamos todos os audios do nosso dataset e carregamos eles para lista audio_data."
      ]
    },
    {
      "cell_type": "code",
      "execution_count": 32,
      "metadata": {
        "id": "VtpfIsU2L-Q4"
      },
      "outputs": [],
      "source": [
        "# Função para carregar e normalizar áudios com amplitudes entre -1 e 1 (Pré-processamento)\n",
        "def load_and_normalize_audio(file_path, target_sr=16000, duration=None):\n",
        "    audio, sr = librosa.load(file_path, sr=target_sr, duration=duration, mono=True)\n",
        "    normalized_audio = librosa.util.normalize(audio)\n",
        "    return normalized_audio, sr\n",
        "\n",
        "def process_audio_files(folder_path, target_sr=16000, duration=None):\n",
        "    audio_data = []  # Lista para armazenar os áudios normalizados\n",
        "    encoded_labels = []  # Lista para armazenar os rótulos codificados\n",
        "\n",
        "    for root, dirs, files in os.walk(folder_path):\n",
        "        for file_name in files:\n",
        "            if file_name.endswith('.wav'):\n",
        "                file_path = os.path.join(root, file_name)\n",
        "                normalized_audio, sr = load_and_normalize_audio(file_path, target_sr=target_sr, duration=duration)\n",
        "\n",
        "                # Extrair o rótulo do nome da pasta pai (classe)\n",
        "                label = os.path.basename(os.path.dirname(file_path))\n",
        "\n",
        "                audio_data.append((normalized_audio, sr))  # Adiciona o áudio normalizado e a sua taxa de amostragem à lista\n",
        "                encoded_labels.append(label)  # Adiciona o rótulo à lista de rótulos codificados\n",
        "\n",
        "    return audio_data, encoded_labels\n",
        "\n",
        "folder_path = \"/content/drive/MyDrive/NonverbalVocalization\"\n",
        "audio_data, encoded_labels = process_audio_files(folder_path)"
      ]
    },
    {
      "cell_type": "markdown",
      "metadata": {
        "id": "PKurZmYTMMPY"
      },
      "source": [
        "## Extraindo Features\n",
        "Nesta etapa extraimos caracteristicas sobre os espectros de frequências dos nossos sinais por meio de 10 extratores diferentes, cada um dividido em 2, totalizando 20.\n"
      ]
    },
    {
      "cell_type": "code",
      "execution_count": 33,
      "metadata": {
        "id": "k9LE59phpsE8"
      },
      "outputs": [],
      "source": [
        "def extract_features(audio_data):\n",
        "    extracted_features = []\n",
        "\n",
        "    for audio, sr in audio_data:\n",
        "        features = []\n",
        "        #FFT\n",
        "        fft = np.fft.fft(audio)\n",
        "\n",
        "        fft_magnitude = np.abs(fft)\n",
        "        fft_magnitude_mean = fft_magnitude.mean()\n",
        "        fft_magnitude_var = fft_magnitude.var()\n",
        "\n",
        "        # Zero Crossing Rate\n",
        "        zero_crossing_rate = librosa.feature.zero_crossing_rate(y=audio)[0]\n",
        "        zero_crossing_rate_mean = zero_crossing_rate.mean()\n",
        "        zero_crossing_rate_var = zero_crossing_rate.var()\n",
        "\n",
        "        # Spectral Centroid\n",
        "        spectral_centroid = librosa.feature.spectral_centroid(y=audio, sr=sr)[0]\n",
        "        spectral_centroid_mean = spectral_centroid.mean()\n",
        "        spectral_centroid_var = spectral_centroid.var()\n",
        "\n",
        "        # Spectral Contrast\n",
        "        spectral_contrast = librosa.feature.spectral_contrast(y=audio, sr=sr)\n",
        "        spectral_contrast_mean = spectral_contrast.mean()\n",
        "        spectral_contrast_var = spectral_contrast.var()\n",
        "\n",
        "        # Mel-Frequency Cepstral Coefficients (MFCCs)\n",
        "        mfccs = librosa.feature.mfcc(y=audio, sr=sr, n_mfcc=13)\n",
        "        mfccs_mean = mfccs.mean()\n",
        "        mfccs_var = mfccs.var()\n",
        "\n",
        "        # Chroma Energy Normalized (CENS)\n",
        "        chroma_cens = librosa.feature.chroma_cens(y=audio, sr=sr)\n",
        "        chroma_cens_mean = chroma_cens.mean()\n",
        "        chroma_cens_var = chroma_cens.var()\n",
        "\n",
        "        # RMS Energy\n",
        "        rms = librosa.feature.rms(y=audio)[0]\n",
        "        rms_mean = rms.mean()\n",
        "        rms_var = rms.var()\n",
        "\n",
        "        # Tempogram\n",
        "        tempogram = librosa.feature.tempogram(y=audio, sr=sr)\n",
        "        tempogram_mean = tempogram.mean()\n",
        "        tempogram_var = tempogram.var()\n",
        "\n",
        "        # Spectral Roll-off\n",
        "        spectral_rolloff = librosa.feature.spectral_rolloff(y=audio, sr=sr)[0]\n",
        "        spectral_rolloff_mean = spectral_rolloff.mean()\n",
        "        spectral_rolloff_var = spectral_rolloff.var()\n",
        "\n",
        "        # # Spectral Bandwidth\n",
        "        # spectral_bandwidth = librosa.feature.spectral_bandwidth(y=audio, sr=sr)[0]\n",
        "        # spectral_bandwidth_mean = spectral_bandwidth.mean()\n",
        "        # spectral_bandwidth_var = spectral_bandwidth.var()\n",
        "\n",
        "        # Spectral Contrast\n",
        "        spectral_contrast = librosa.feature.spectral_contrast(y=audio, sr=sr)\n",
        "        spectral_contrast_mean = spectral_contrast.mean()\n",
        "        spectral_contrast_var = spectral_contrast.var()\n",
        "\n",
        "        # Spectral Flatness\n",
        "        spectral_flatness = librosa.feature.spectral_flatness(y=audio)\n",
        "        spectral_flatness_mean = spectral_flatness.mean()\n",
        "        spectral_flatness_var = spectral_flatness.var()\n",
        "\n",
        "        features.append(fft_magnitude_mean)\n",
        "        features.append(fft_magnitude_var)\n",
        "        features.append(zero_crossing_rate_mean)\n",
        "        features.append(zero_crossing_rate_var)\n",
        "        features.append(spectral_centroid_mean)\n",
        "        features.append(spectral_centroid_var)\n",
        "        features.append(spectral_flatness_mean)\n",
        "        features.append(spectral_flatness_var)\n",
        "        features.append(spectral_contrast_mean)\n",
        "        features.append(spectral_contrast_var)\n",
        "        # features.append(spectral_bandwidth_mean)\n",
        "        # features.append(spectral_bandwidth_var)\n",
        "        features.append(spectral_rolloff_mean)\n",
        "        features.append(spectral_rolloff_var)\n",
        "        features.append(tempogram_mean)\n",
        "        features.append(tempogram_var)\n",
        "        features.append(rms_mean)\n",
        "        features.append(rms_var)\n",
        "        features.append(chroma_cens_mean)\n",
        "        features.append(chroma_cens_var)\n",
        "        features.append(mfccs_mean)\n",
        "        features.append(mfccs_var)\n",
        "\n",
        "        extracted_features.append(features)\n",
        "\n",
        "    return extracted_features"
      ]
    },
    {
      "cell_type": "markdown",
      "metadata": {
        "id": "DBDevLDNR976"
      },
      "source": [
        "##Seleção de características com Chi-Quadrado\n",
        "Nesta etapa, aplicamos o teste do Chi-Quadrado para avaliar a relevância de cada característica em nosso dataset, selecionando as mais significativas para o modelo.\n",
        "\n",
        "\n",
        "\n",
        "\n"
      ]
    },
    {
      "cell_type": "code",
      "execution_count": 34,
      "metadata": {
        "id": "_D2IKEAtTKwX"
      },
      "outputs": [],
      "source": [
        "def select_features(features, y) : #Teste do chi2\n",
        "  bestfeatures = SelectKBest(score_func=chi2, k=20)\n",
        "  fit = bestfeatures.fit(features,y)\n",
        "  dfscores = pd.DataFrame(fit.scores_)\n",
        "  featureScores = pd.concat([dfscores],axis=1)\n",
        "  featureScores.columns = ['Score']\n",
        "  print(featureScores.nlargest(20,'Score'))"
      ]
    },
    {
      "cell_type": "markdown",
      "metadata": {
        "id": "eYRu-Zkb9UUF"
      },
      "source": [
        "## Extração de features\n",
        "Aqui chamamos a função de extração de features e codificamos nosso array de labels, que iniciamente era uma array de strings, com o nome da classe de cada áudio."
      ]
    },
    {
      "cell_type": "code",
      "execution_count": 35,
      "metadata": {
        "colab": {
          "base_uri": "https://localhost:8080/"
        },
        "id": "m6e4Bw559dWu",
        "outputId": "67870562-30a7-485e-881d-91a2f93a45ed"
      },
      "outputs": [
        {
          "name": "stderr",
          "output_type": "stream",
          "text": [
            "/usr/local/lib/python3.10/dist-packages/librosa/core/spectrum.py:257: UserWarning: n_fft=512 is too large for input signal of length=500\n",
            "  warnings.warn(\n",
            "/usr/local/lib/python3.10/dist-packages/librosa/core/spectrum.py:257: UserWarning: n_fft=512 is too large for input signal of length=480\n",
            "  warnings.warn(\n",
            "/usr/local/lib/python3.10/dist-packages/librosa/core/spectrum.py:257: UserWarning: n_fft=512 is too large for input signal of length=503\n",
            "  warnings.warn(\n",
            "/usr/local/lib/python3.10/dist-packages/librosa/core/spectrum.py:257: UserWarning: n_fft=512 is too large for input signal of length=505\n",
            "  warnings.warn(\n",
            "/usr/local/lib/python3.10/dist-packages/librosa/core/spectrum.py:257: UserWarning: n_fft=512 is too large for input signal of length=510\n",
            "  warnings.warn(\n",
            "/usr/local/lib/python3.10/dist-packages/librosa/core/spectrum.py:257: UserWarning: n_fft=512 is too large for input signal of length=485\n",
            "  warnings.warn(\n",
            "/usr/local/lib/python3.10/dist-packages/librosa/core/spectrum.py:257: UserWarning: n_fft=512 is too large for input signal of length=508\n",
            "  warnings.warn(\n",
            "/usr/local/lib/python3.10/dist-packages/librosa/core/spectrum.py:257: UserWarning: n_fft=512 is too large for input signal of length=490\n",
            "  warnings.warn(\n",
            "/usr/local/lib/python3.10/dist-packages/librosa/core/spectrum.py:257: UserWarning: n_fft=512 is too large for input signal of length=465\n",
            "  warnings.warn(\n",
            "/usr/local/lib/python3.10/dist-packages/librosa/core/spectrum.py:257: UserWarning: n_fft=512 is too large for input signal of length=489\n",
            "  warnings.warn(\n"
          ]
        }
      ],
      "source": [
        "features = extract_features(audio_data)\n",
        "label_encoder = LabelEncoder()\n",
        "\n",
        "y_train_encoded = label_encoder.fit_transform(encoded_labels) # Converter os rótulos em valores numéricos"
      ]
    },
    {
      "cell_type": "markdown",
      "metadata": {
        "id": "lIBvoldXS_G4"
      },
      "source": [
        "## Classificador Random Forest\n",
        "Nesta etapa, apresentamos a aplicação do classificador Random Forest. O classificador é treinado e avaliado usando métricas como precisão, recall e F1-score para determinar o desempenho do modelo."
      ]
    },
    {
      "cell_type": "code",
      "execution_count": 36,
      "metadata": {
        "colab": {
          "base_uri": "https://localhost:8080/"
        },
        "id": "tWfoUGO5XMfC",
        "outputId": "2f11972d-38ea-424d-dc7e-7802ddc67f9a"
      },
      "outputs": [
        {
          "name": "stdout",
          "output_type": "stream",
          "text": [
            "Results for Random Forest with best parameters:\n",
            "              precision    recall  f1-score   support\n",
            "\n",
            "           0       0.57      0.62      0.59        13\n",
            "           1       0.69      0.90      0.78        10\n",
            "           2       0.92      0.80      0.86        15\n",
            "           3       0.67      0.86      0.75         7\n",
            "           4       0.75      0.86      0.80         7\n",
            "           5       0.94      0.94      0.94        18\n",
            "           6       0.43      0.33      0.38         9\n",
            "           7       0.91      0.77      0.83        13\n",
            "           8       0.67      0.67      0.67         9\n",
            "           9       0.83      0.71      0.77         7\n",
            "\n",
            "    accuracy                           0.76       108\n",
            "   macro avg       0.74      0.75      0.74       108\n",
            "weighted avg       0.77      0.76      0.76       108\n",
            "\n"
          ]
        }
      ],
      "source": [
        "# Normalizar a matriz\n",
        "scaler = MinMaxScaler()\n",
        "normalized_matrix = scaler.fit_transform(features)\n",
        "\n",
        "# Selecionar as melhores features\n",
        "selector = SelectFromModel(estimator=RandomForestClassifier(n_estimators=100))\n",
        "selected_features = selector.fit_transform(normalized_matrix, y_train_encoded)\n",
        "\n",
        "# Balanceamento de classes usando SMOTE\n",
        "smote = SMOTE(random_state=42)\n",
        "X_train_resampled, y_train_resampled = smote.fit_resample(selected_features, y_train_encoded)\n",
        "\n",
        "# Dividir o conjunto de treinamento em conjuntos de treinamento e teste\n",
        "X_train, X_test, y_train, y_test = train_test_split(X_train_resampled, y_train_resampled, test_size=0.2, random_state=42)\n",
        "\n",
        "param_grid_rf = {\n",
        "    'n_estimators': [100, 200, 300],\n",
        "    'max_depth': [None, 10, 20],\n",
        "    'min_samples_split': [2, 5, 10],\n",
        "}\n",
        "\n",
        "# Criar o GridSearchCV para Random Forest\n",
        "grid_search_rf = GridSearchCV(RandomForestClassifier(), param_grid_rf, cv=5)\n",
        "grid_search_rf.fit(X_train, y_train)\n",
        "\n",
        "# Melhor modelo encontrado pelo GridSearchCV\n",
        "best_rf_classifier = grid_search_rf.best_estimator_\n",
        "\n",
        "# Treinar e avaliar o modelo com os melhores parâmetros no conjunto de teste\n",
        "best_rf_classifier.fit(X_train, y_train)\n",
        "y_pred_rf = best_rf_classifier.predict(X_test)\n",
        "print(\"Results for Random Forest with best parameters:\")\n",
        "print(classification_report(y_test, y_pred_rf, zero_division=1))"
      ]
    },
    {
      "cell_type": "markdown",
      "metadata": {
        "id": "mXlFarLeUiew"
      },
      "source": [
        "##Resultados\n",
        "Para enxergar melhor os resultados do modelo, plotamos a matriz de confusão"
      ]
    },
    {
      "cell_type": "code",
      "execution_count": 37,
      "metadata": {
        "colab": {
          "base_uri": "https://localhost:8080/",
          "height": 564
        },
        "id": "uSBq0fyNpBVB",
        "outputId": "ddae3a50-5577-45d1-b46e-419221b7df80"
      },
      "outputs": [
        {
          "data": {
            "image/png": "[encoded data removed]",
            "text/plain": [
              "<Figure size 800x600 with 2 Axes>"
            ]
          },
          "metadata": {},
          "output_type": "display_data"
        }
      ],
      "source": [
        "# Calcular a matriz de confusão\n",
        "conf_matrix = confusion_matrix(y_test, y_pred_rf)\n",
        "\n",
        "# Plotar a matriz de confusão usando seaborn\n",
        "plt.figure(figsize=(8, 6))\n",
        "sns.heatmap(conf_matrix, annot=True, fmt='d', cmap='Blues')\n",
        "plt.title('Confusion Matrix - Random Forest')\n",
        "plt.xlabel('Predicted Labels')\n",
        "plt.ylabel('True Labels')\n",
        "plt.show()\n"
      ]
    }
  ],
  "metadata": {
    "colab": {
      "provenance": []
    },
    "kernelspec": {
      "display_name": "Python 3",
      "name": "python3"
    },
    "language_info": {
      "name": "python"
    }
  },
  "nbformat": 4,
  "nbformat_minor": 0
}
